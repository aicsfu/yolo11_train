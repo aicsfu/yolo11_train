{
 "cells": [
  {
   "cell_type": "code",
   "execution_count": null,
   "id": "f9fde8ca",
   "metadata": {},
   "outputs": [],
   "source": [
    "yolo_pretrain_path = \"yolo11n.pt\"\n",
    "data_yaml_path = r\"C:\\Users\\user\\Desktop\\processed\\data.yaml\""
   ]
  },
  {
   "cell_type": "code",
   "execution_count": null,
   "id": "initial_id",
   "metadata": {},
   "outputs": [],
   "source": [
    "from ultralytics import YOLO\n",
    "\n",
    "\n",
    "model = YOLO(yolo_pretrain_path)\n",
    "train_results = model.train(\n",
    "    data=data_yaml_path,\n",
    "    epochs=1000, \n",
    "    imgsz=640,\n",
    "    device=0,\n",
    "    patience=100,\n",
    "    batch=24,\n",
    ")"
   ]
  }
 ],
 "metadata": {
  "kernelspec": {
   "display_name": "Python 3",
   "language": "python",
   "name": "python3"
  },
  "language_info": {
   "codemirror_mode": {
    "name": "ipython",
    "version": 3
   },
   "file_extension": ".py",
   "mimetype": "text/x-python",
   "name": "python",
   "nbconvert_exporter": "python",
   "pygments_lexer": "ipython3",
   "version": "3.10.7"
  }
 },
 "nbformat": 4,
 "nbformat_minor": 5
}
